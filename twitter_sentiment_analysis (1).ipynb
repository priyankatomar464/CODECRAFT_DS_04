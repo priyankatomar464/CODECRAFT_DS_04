{
 "cells": [
  {
   "cell_type": "markdown",
   "id": "b7010626",
   "metadata": {},
   "source": [
    "# CODECRAFT_DS_04: Twitter Sentiment Analysis & Visualization\n",
    "This project analyzes sentiment patterns in Twitter data to understand public opinion and attitudes toward specific entities or brands using the Twitter Entity Sentiment Analysis dataset."
   ]
  },
  {
   "cell_type": "code",
   "execution_count": null,
   "id": "4f4d9508",
   "metadata": {},
   "outputs": [],
   "source": [
    "import pandas as pd\n",
    "import numpy as np\n",
    "import matplotlib.pyplot as plt\n",
    "import seaborn as sns\n",
    "from wordcloud import WordCloud\n",
    "import re\n",
    "import nltk\n",
    "from nltk.corpus import stopwords\n",
    "\n",
    "# nltk downloads\n",
    "nltk.download('stopwords')\n",
    "\n",
    "# Load dataset\n",
    "df = pd.read_csv('twitter_training.csv', header=None, names=['tweet_id', 'entity', 'sentiment', 'tweet'])\n",
    "df.head()"
   ]
  },
  {
   "cell_type": "code",
   "execution_count": null,
   "id": "dc93a131",
   "metadata": {},
   "outputs": [],
   "source": [
    "# Function to clean tweets\n",
    "def clean_tweet(text):\n",
    "    text = re.sub(r'http\\S+|www\\S+|https\\S+', '', text, flags=re.MULTILINE)\n",
    "    text = re.sub(r'\\@\\w+|\\#','', text)\n",
    "    text = re.sub(r'[^A-Za-z\\s]', '', text)\n",
    "    text = text.lower()\n",
    "    stop_words = set(stopwords.words('english'))\n",
    "    words = text.split()\n",
    "    words = [word for word in words if word not in stop_words]\n",
    "    return ' '.join(words)\n",
    "\n",
    "df['clean_tweet'] = df['tweet'].apply(clean_tweet)\n",
    "df.head()"
   ]
  },
  {
   "cell_type": "code",
   "execution_count": null,
   "id": "f3484c9b",
   "metadata": {},
   "outputs": [],
   "source": [
    "# Sentiment distribution\n",
    "sns.countplot(x='sentiment', data=df, palette='Set2')\n",
    "plt.title('Sentiment Distribution')\n",
    "plt.show()"
   ]
  },
  {
   "cell_type": "code",
   "execution_count": null,
   "id": "b6f72d68",
   "metadata": {},
   "outputs": [],
   "source": [
    "top_entities = df['entity'].value_counts().head(10)\n",
    "top_entities.plot(kind='bar', color='skyblue')\n",
    "plt.title('Top 10 Most Mentioned Entities')\n",
    "plt.ylabel('Frequency')\n",
    "plt.xticks(rotation=45)\n",
    "plt.show()"
   ]
  },
  {
   "cell_type": "code",
   "execution_count": null,
   "id": "ef72210b",
   "metadata": {},
   "outputs": [],
   "source": [
    "# Generate WordCloud for each sentiment\n",
    "for sentiment in df['sentiment'].unique():\n",
    "    text = ' '.join(df[df['sentiment'] == sentiment]['clean_tweet'])\n",
    "    wordcloud = WordCloud(width=800, height=400, background_color='white').generate(text)\n",
    "    plt.figure(figsize=(10, 5))\n",
    "    plt.imshow(wordcloud, interpolation='bilinear')\n",
    "    plt.axis('off')\n",
    "    plt.title(f'WordCloud for {sentiment} Tweets')\n",
    "    plt.show()"
   ]
  },
  {
   "cell_type": "markdown",
   "id": "c96c05a5",
   "metadata": {},
   "source": [
    "## 📌 Key Insights\n",
    "- Most tweets are classified as Positive or Negative.\n",
    "- Some entities are far more discussed than others.\n",
    "- WordClouds help visualize common terms for each sentiment type.\n",
    "- Cleaning and preprocessing greatly improve readability and results."
   ]
  }
 ],
 "metadata": {},
 "nbformat": 4,
 "nbformat_minor": 5
}
